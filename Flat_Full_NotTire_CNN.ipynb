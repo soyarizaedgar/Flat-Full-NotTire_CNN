{
  "cells": [
    {
      "cell_type": "code",
      "execution_count": null,
      "metadata": {
        "id": "w9qjNfZnXp8z"
      },
      "outputs": [],
      "source": [
        "import os\n",
        "import tensorflow as tf\n",
        "import zipfile"
      ]
    },
    {
      "cell_type": "code",
      "execution_count": null,
      "metadata": {
        "id": "0hxyhpC9d4EV"
      },
      "outputs": [],
      "source": [
        "local_zip = '/content/archive.zip'\n",
        "with zipfile.ZipFile(local_zip, 'r') as zip_hand:\n",
        "    zip_hand.extractall('/content')"
      ]
    },
    {
      "cell_type": "code",
      "execution_count": null,
      "metadata": {
        "colab": {
          "base_uri": "https://localhost:8080/"
        },
        "id": "oLBfUZMjFNzj",
        "outputId": "a154f8ef-cd9a-4867-b30b-adfda6b80a1f"
      },
      "outputs": [
        {
          "output_type": "stream",
          "name": "stdout",
          "text": [
            "Looking in indexes: https://pypi.org/simple, https://us-python.pkg.dev/colab-wheels/public/simple/\n",
            "Collecting split-folders\n",
            "  Downloading split_folders-0.5.1-py3-none-any.whl (8.4 kB)\n",
            "Installing collected packages: split-folders\n",
            "Successfully installed split-folders-0.5.1\n"
          ]
        }
      ],
      "source": [
        "pip install split-folders"
      ]
    },
    {
      "cell_type": "code",
      "execution_count": null,
      "metadata": {
        "colab": {
          "base_uri": "https://localhost:8080/"
        },
        "id": "JnElEnLcFed9",
        "outputId": "70779232-42bc-4ef2-ad5a-21aacf1b6bcf"
      },
      "outputs": [
        {
          "output_type": "stream",
          "name": "stderr",
          "text": [
            "Copying files: 900 files [00:00, 9784.00 files/s]\n"
          ]
        }
      ],
      "source": [
        "import splitfolders\n",
        "input_folder = '/content/tire-dataset'\n",
        "splitfolders.ratio(input_folder, output='dataset',\n",
        "                   seed = 123, ratio=(.8,.2))"
      ]
    },
    {
      "cell_type": "code",
      "execution_count": null,
      "metadata": {
        "colab": {
          "base_uri": "https://localhost:8080/"
        },
        "id": "gqxXDbWDM2nf",
        "outputId": "5bcc389e-9b6d-419d-930e-3758b2eb22fa"
      },
      "outputs": [
        {
          "output_type": "stream",
          "name": "stdout",
          "text": [
            "train_img: 240 test_img: 60\n"
          ]
        }
      ],
      "source": [
        "train_dir = os.listdir('/content/dataset/train/flat.class')\n",
        "test_dir = os.listdir('/content/dataset/val/flat.class')\n",
        "print('train_img:',len(train_dir),'test_img:',len(test_dir))"
      ]
    },
    {
      "cell_type": "code",
      "execution_count": null,
      "metadata": {
        "colab": {
          "base_uri": "https://localhost:8080/"
        },
        "id": "MeP-_lbdWELv",
        "outputId": "6366f9e3-7110-4de1-aa38-d207bcd04f13"
      },
      "outputs": [
        {
          "output_type": "stream",
          "name": "stdout",
          "text": [
            "Found 720 files belonging to 3 classes.\n",
            "Found 180 files belonging to 3 classes.\n"
          ]
        }
      ],
      "source": [
        "train_ds = tf.keras.preprocessing.image_dataset_from_directory(\n",
        "    '/content/dataset/train',\n",
        "    image_size=(240, 240),\n",
        "    seed=123,\n",
        ")\n",
        "\n",
        "test_ds = tf.keras.preprocessing.image_dataset_from_directory(\n",
        "    '/content/dataset/val',\n",
        "    image_size=(240, 240),\n",
        "    seed=123,\n",
        ")"
      ]
    },
    {
      "cell_type": "markdown",
      "source": [
        "#MODELO 1"
      ],
      "metadata": {
        "id": "RiwQc486e8qV"
      }
    },
    {
      "cell_type": "code",
      "execution_count": null,
      "metadata": {
        "colab": {
          "base_uri": "https://localhost:8080/"
        },
        "id": "hQG1RoGgzMYr",
        "outputId": "98d4d88e-fe42-4032-b473-1f614bd65d9b"
      },
      "outputs": [
        {
          "output_type": "stream",
          "name": "stdout",
          "text": [
            "Model: \"sequential\"\n",
            "_________________________________________________________________\n",
            " Layer (type)                Output Shape              Param #   \n",
            "=================================================================\n",
            " flatten (Flatten)           (None, 172800)            0         \n",
            "                                                                 \n",
            " dense (Dense)               (None, 128)               22118528  \n",
            "                                                                 \n",
            " dense_1 (Dense)             (None, 64)                8256      \n",
            "                                                                 \n",
            " dense_2 (Dense)             (None, 3)                 195       \n",
            "                                                                 \n",
            "=================================================================\n",
            "Total params: 22,126,979\n",
            "Trainable params: 22,126,979\n",
            "Non-trainable params: 0\n",
            "_________________________________________________________________\n"
          ]
        }
      ],
      "source": [
        "model = tf.keras.Sequential([\n",
        "    tf.keras.layers.Flatten(input_shape = (240,240,3)),\n",
        "    tf.keras.layers.Dense(128, activation = 'relu'),  \n",
        "    tf.keras.layers.Dense(64, activation = 'relu'), \n",
        "    tf.keras.layers.Dense(3), \n",
        "]) \n",
        "model.summary()"
      ]
    },
    {
      "cell_type": "code",
      "execution_count": null,
      "metadata": {
        "id": "vT-JJVWvz4ws"
      },
      "outputs": [],
      "source": [
        "model.compile(\n",
        "    optimizer = 'adam',\n",
        "    loss = tf.keras.losses.SparseCategoricalCrossentropy(from_logits = True), \n",
        "    metrics = ['accuracy']\n",
        ")"
      ]
    },
    {
      "cell_type": "code",
      "execution_count": null,
      "metadata": {
        "colab": {
          "base_uri": "https://localhost:8080/"
        },
        "id": "WkAQs-V_23V_",
        "outputId": "08e69803-6a03-4d52-95fd-5b570e472590"
      },
      "outputs": [
        {
          "output_type": "stream",
          "name": "stdout",
          "text": [
            "Epoch 1/20\n",
            "23/23 [==============================] - 3s 46ms/step - loss: 4229.3633 - accuracy: 0.5542 - val_loss: 687.1299 - val_accuracy: 0.6333\n",
            "Epoch 2/20\n",
            "23/23 [==============================] - 1s 34ms/step - loss: 244.9912 - accuracy: 0.8014 - val_loss: 290.4611 - val_accuracy: 0.8056\n",
            "Epoch 3/20\n",
            "23/23 [==============================] - 1s 35ms/step - loss: 87.5351 - accuracy: 0.9014 - val_loss: 62.0749 - val_accuracy: 0.9389\n",
            "Epoch 4/20\n",
            "23/23 [==============================] - 1s 33ms/step - loss: 14.2624 - accuracy: 0.9667 - val_loss: 35.7342 - val_accuracy: 0.9722\n",
            "Epoch 5/20\n",
            "23/23 [==============================] - 1s 33ms/step - loss: 10.5883 - accuracy: 0.9792 - val_loss: 58.2390 - val_accuracy: 0.9500\n",
            "Epoch 6/20\n",
            "23/23 [==============================] - 1s 33ms/step - loss: 8.1843 - accuracy: 0.9889 - val_loss: 40.0813 - val_accuracy: 0.9222\n",
            "Epoch 7/20\n",
            "23/23 [==============================] - 1s 34ms/step - loss: 20.0690 - accuracy: 0.9486 - val_loss: 233.4043 - val_accuracy: 0.7556\n",
            "Epoch 8/20\n",
            "23/23 [==============================] - 1s 34ms/step - loss: 120.3707 - accuracy: 0.8764 - val_loss: 60.8260 - val_accuracy: 0.9389\n",
            "Epoch 9/20\n",
            "23/23 [==============================] - 1s 34ms/step - loss: 29.0651 - accuracy: 0.9542 - val_loss: 23.6110 - val_accuracy: 0.9722\n",
            "Epoch 10/20\n",
            "23/23 [==============================] - 1s 33ms/step - loss: 5.1554 - accuracy: 0.9875 - val_loss: 37.2344 - val_accuracy: 0.9500\n",
            "Epoch 11/20\n",
            "23/23 [==============================] - 1s 33ms/step - loss: 10.7206 - accuracy: 0.9819 - val_loss: 17.5957 - val_accuracy: 0.9889\n",
            "Epoch 12/20\n",
            "23/23 [==============================] - 1s 32ms/step - loss: 50.0870 - accuracy: 0.9236 - val_loss: 93.5183 - val_accuracy: 0.9389\n",
            "Epoch 13/20\n",
            "23/23 [==============================] - 1s 33ms/step - loss: 51.1261 - accuracy: 0.9417 - val_loss: 114.9479 - val_accuracy: 0.8944\n",
            "Epoch 14/20\n",
            "23/23 [==============================] - 1s 33ms/step - loss: 45.6945 - accuracy: 0.9625 - val_loss: 124.5902 - val_accuracy: 0.9389\n",
            "Epoch 15/20\n",
            "23/23 [==============================] - 1s 33ms/step - loss: 7.6387 - accuracy: 0.9917 - val_loss: 65.4342 - val_accuracy: 0.9722\n",
            "Epoch 16/20\n",
            "23/23 [==============================] - 1s 34ms/step - loss: 3.2242 - accuracy: 0.9917 - val_loss: 24.1733 - val_accuracy: 0.9667\n",
            "Epoch 17/20\n",
            "23/23 [==============================] - 1s 35ms/step - loss: 2.3709 - accuracy: 0.9958 - val_loss: 32.9360 - val_accuracy: 0.9833\n",
            "Epoch 18/20\n",
            "23/23 [==============================] - 1s 33ms/step - loss: 3.0023 - accuracy: 0.9944 - val_loss: 31.8243 - val_accuracy: 0.9778\n",
            "Epoch 19/20\n",
            "23/23 [==============================] - 1s 34ms/step - loss: 1.2682 - accuracy: 0.9986 - val_loss: 45.5089 - val_accuracy: 0.9722\n",
            "Epoch 20/20\n",
            "23/23 [==============================] - 1s 35ms/step - loss: 0.0050 - accuracy: 0.9986 - val_loss: 52.4288 - val_accuracy: 0.9667\n"
          ]
        }
      ],
      "source": [
        "history = model.fit(\n",
        "    train_ds,\n",
        "    epochs=20,\n",
        "    validation_data=test_ds\n",
        ")"
      ]
    },
    {
      "cell_type": "code",
      "execution_count": null,
      "metadata": {
        "colab": {
          "base_uri": "https://localhost:8080/",
          "height": 301
        },
        "id": "EXDlVvRm2xhp",
        "outputId": "b49f46a8-b0ed-4d14-a38f-b65029c5f3f0"
      },
      "outputs": [
        {
          "output_type": "execute_result",
          "data": {
            "text/plain": [
              "<matplotlib.legend.Legend at 0x7f00102c1b50>"
            ]
          },
          "metadata": {},
          "execution_count": 8
        },
        {
          "output_type": "display_data",
          "data": {
            "text/plain": [
              "<Figure size 432x288 with 1 Axes>"
            ],
            "image/png": "[encoded data removed]"
          },
          "metadata": {
            "needs_background": "light"
          }
        }
      ],
      "source": [
        "import matplotlib.pyplot as plt\n",
        "\n",
        "plt.plot(history.history['accuracy'], label='accuracy')\n",
        "plt.plot(history.history['val_accuracy'], label = 'val_accuracy')\n",
        "plt.xlabel('Epoch')\n",
        "plt.ylabel('Accuracy')\n",
        "plt.ylim([0, 1])\n",
        "plt.legend(loc='lower right')"
      ]
    },
    {
      "cell_type": "markdown",
      "metadata": {
        "id": "4IQXVqAU3hLH"
      },
      "source": [
        "#SEGUNDO MODELO"
      ]
    },
    {
      "cell_type": "code",
      "execution_count": null,
      "metadata": {
        "colab": {
          "base_uri": "https://localhost:8080/"
        },
        "id": "eNzzvz0B3koz",
        "outputId": "fcb0a22d-d0fc-4877-c3fe-27fdfbdfb14a"
      },
      "outputs": [
        {
          "name": "stdout",
          "output_type": "stream",
          "text": [
            "Model: \"sequential_3\"\n",
            "_________________________________________________________________\n",
            " Layer (type)                Output Shape              Param #   \n",
            "=================================================================\n",
            " flatten_3 (Flatten)         (None, 172800)            0         \n",
            "                                                                 \n",
            " dense_9 (Dense)             (None, 128)               22118528  \n",
            "                                                                 \n",
            " dense_10 (Dense)            (None, 64)                8256      \n",
            "                                                                 \n",
            " dense_11 (Dense)            (None, 3)                 195       \n",
            "                                                                 \n",
            "=================================================================\n",
            "Total params: 22,126,979\n",
            "Trainable params: 22,126,979\n",
            "Non-trainable params: 0\n",
            "_________________________________________________________________\n"
          ]
        }
      ],
      "source": [
        "model = tf.keras.Sequential([\n",
        "    tf.keras.layers.Flatten(input_shape = (240,240,3)),\n",
        "    tf.keras.layers.Dense(128, activation = 'relu'),  \n",
        "    tf.keras.layers.Dense(64, activation = 'relu'), \n",
        "    tf.keras.layers.Dense(3), \n",
        "]) \n",
        "model.summary()"
      ]
    },
    {
      "cell_type": "code",
      "execution_count": null,
      "metadata": {
        "id": "k_wRzove3ko0"
      },
      "outputs": [],
      "source": [
        "model.compile(\n",
        "    optimizer = 'adam',\n",
        "    loss = tf.keras.losses.SparseCategoricalCrossentropy(from_logits = True), \n",
        "    metrics = ['accuracy']\n",
        ")"
      ]
    },
    {
      "cell_type": "code",
      "execution_count": null,
      "metadata": {
        "colab": {
          "base_uri": "https://localhost:8080/"
        },
        "id": "A9LrMa3O3ko1",
        "outputId": "830aad7e-5c92-4f5d-a5d7-4f5ef08f9a96"
      },
      "outputs": [
        {
          "name": "stdout",
          "output_type": "stream",
          "text": [
            "Epoch 1/5\n",
            "23/23 [==============================] - 5s 185ms/step - loss: 8154.6089 - accuracy: 0.4903 - val_loss: 2356.1667 - val_accuracy: 0.6278\n",
            "Epoch 2/5\n",
            "23/23 [==============================] - 4s 178ms/step - loss: 759.3351 - accuracy: 0.7528 - val_loss: 328.1586 - val_accuracy: 0.8222\n",
            "Epoch 3/5\n",
            "23/23 [==============================] - 4s 181ms/step - loss: 392.0427 - accuracy: 0.8111 - val_loss: 97.4716 - val_accuracy: 0.9278\n",
            "Epoch 4/5\n",
            "23/23 [==============================] - 4s 181ms/step - loss: 144.9196 - accuracy: 0.8931 - val_loss: 206.0026 - val_accuracy: 0.8667\n",
            "Epoch 5/5\n",
            "23/23 [==============================] - 4s 181ms/step - loss: 106.0559 - accuracy: 0.9139 - val_loss: 95.0723 - val_accuracy: 0.9444\n"
          ]
        }
      ],
      "source": [
        "history = model.fit(\n",
        "    train_ds,\n",
        "    epochs=5,\n",
        "    validation_data=test_ds\n",
        ")"
      ]
    },
    {
      "cell_type": "code",
      "execution_count": null,
      "metadata": {
        "colab": {
          "base_uri": "https://localhost:8080/",
          "height": 301
        },
        "id": "j9hBf4YO3ko2",
        "outputId": "b1194c04-ad16-4bcc-9a0b-9dfee919f297"
      },
      "outputs": [
        {
          "name": "stdout",
          "output_type": "stream",
          "text": [
            "6/6 - 0s - loss: 95.0723 - accuracy: 0.9444 - 380ms/epoch - 63ms/step\n"
          ]
        },
        {
          "data": {
            "image/png": "[encoded data removed]",
            "text/plain": [
              "<Figure size 432x288 with 1 Axes>"
            ]
          },
          "metadata": {},
          "output_type": "display_data"
        }
      ],
      "source": [
        "import matplotlib.pyplot as plt\n",
        "\n",
        "plt.plot(history.history['accuracy'], label='accuracy')\n",
        "plt.plot(history.history['val_accuracy'], label = 'val_accuracy')\n",
        "plt.xlabel('Epoch')\n",
        "plt.ylabel('Accuracy')\n",
        "plt.ylim([0, 1])\n",
        "plt.legend(loc='lower right')\n",
        "\n",
        "test_loss, test_acc = model.evaluate(test_ds, verbose=2)"
      ]
    },
    {
      "cell_type": "markdown",
      "metadata": {
        "id": "jaOEXbOz66pO"
      },
      "source": [
        "#TERCER MODELO"
      ]
    },
    {
      "cell_type": "code",
      "execution_count": null,
      "metadata": {
        "colab": {
          "base_uri": "https://localhost:8080/"
        },
        "id": "_yj3UPEq66pP",
        "outputId": "9e8a61f5-3ae6-458a-dfff-bdc582908f7f"
      },
      "outputs": [
        {
          "output_type": "stream",
          "name": "stdout",
          "text": [
            "Model: \"sequential\"\n",
            "_________________________________________________________________\n",
            " Layer (type)                Output Shape              Param #   \n",
            "=================================================================\n",
            " conv2d (Conv2D)             (None, 238, 238, 32)      896       \n",
            "                                                                 \n",
            " max_pooling2d (MaxPooling2D  (None, 119, 119, 32)     0         \n",
            " )                                                               \n",
            "                                                                 \n",
            " flatten (Flatten)           (None, 453152)            0         \n",
            "                                                                 \n",
            " dense (Dense)               (None, 128)               58003584  \n",
            "                                                                 \n",
            " dense_1 (Dense)             (None, 64)                8256      \n",
            "                                                                 \n",
            " dense_2 (Dense)             (None, 3)                 195       \n",
            "                                                                 \n",
            "=================================================================\n",
            "Total params: 58,012,931\n",
            "Trainable params: 58,012,931\n",
            "Non-trainable params: 0\n",
            "_________________________________________________________________\n"
          ]
        }
      ],
      "source": [
        "model = tf.keras.Sequential([\n",
        "     tf.keras.layers.Conv2D(32, (3, 3),\n",
        "                           activation='relu',\n",
        "                           input_shape=(240, 240, 3)),\n",
        "    tf.keras.layers.MaxPool2D((2, 2)),\n",
        "    tf.keras.layers.Flatten(),\n",
        "    tf.keras.layers.Dense(128, activation = 'relu'), \n",
        "    tf.keras.layers.Dense(64, activation = 'relu'), \n",
        "    tf.keras.layers.Dense(3), \n",
        "]) \n",
        "model.summary()"
      ]
    },
    {
      "cell_type": "code",
      "execution_count": null,
      "metadata": {
        "id": "RNzU7YG366pP"
      },
      "outputs": [],
      "source": [
        "model.compile(\n",
        "    optimizer = 'adam',\n",
        "    loss = tf.keras.losses.SparseCategoricalCrossentropy(from_logits = True), \n",
        "    metrics = ['accuracy']\n",
        ")"
      ]
    },
    {
      "cell_type": "code",
      "execution_count": null,
      "metadata": {
        "colab": {
          "base_uri": "https://localhost:8080/"
        },
        "id": "FrYY1pps66pP",
        "outputId": "4444e9e4-0066-494d-ed9e-eac722ea16e8"
      },
      "outputs": [
        {
          "output_type": "stream",
          "name": "stdout",
          "text": [
            "Epoch 1/10\n",
            "23/23 [==============================] - 5s 75ms/step - loss: 1411.7252 - accuracy: 0.4306 - val_loss: 10.0982 - val_accuracy: 0.8222\n",
            "Epoch 2/10\n",
            "23/23 [==============================] - 2s 59ms/step - loss: 7.1769 - accuracy: 0.8597 - val_loss: 2.6395 - val_accuracy: 0.9056\n",
            "Epoch 3/10\n",
            "23/23 [==============================] - 2s 60ms/step - loss: 0.7470 - accuracy: 0.9597 - val_loss: 1.8621 - val_accuracy: 0.9222\n",
            "Epoch 4/10\n",
            "23/23 [==============================] - 1s 58ms/step - loss: 0.1625 - accuracy: 0.9875 - val_loss: 1.1528 - val_accuracy: 0.9278\n",
            "Epoch 5/10\n",
            "23/23 [==============================] - 2s 59ms/step - loss: 0.0884 - accuracy: 0.9917 - val_loss: 0.6713 - val_accuracy: 0.9278\n",
            "Epoch 6/10\n",
            "23/23 [==============================] - 1s 58ms/step - loss: 0.0374 - accuracy: 0.9958 - val_loss: 2.2017 - val_accuracy: 0.9222\n",
            "Epoch 7/10\n",
            "23/23 [==============================] - 1s 58ms/step - loss: 0.0361 - accuracy: 0.9986 - val_loss: 1.0476 - val_accuracy: 0.9389\n",
            "Epoch 8/10\n",
            "23/23 [==============================] - 2s 59ms/step - loss: 1.6226e-08 - accuracy: 1.0000 - val_loss: 0.9556 - val_accuracy: 0.9278\n",
            "Epoch 9/10\n",
            "23/23 [==============================] - 2s 61ms/step - loss: 4.9173e-08 - accuracy: 1.0000 - val_loss: 0.9477 - val_accuracy: 0.9278\n",
            "Epoch 10/10\n",
            "23/23 [==============================] - 2s 58ms/step - loss: 4.6359e-08 - accuracy: 1.0000 - val_loss: 0.9460 - val_accuracy: 0.9278\n"
          ]
        }
      ],
      "source": [
        "history = model.fit(\n",
        "    train_ds,\n",
        "    epochs=10,\n",
        "    validation_data=test_ds\n",
        ")"
      ]
    },
    {
      "cell_type": "code",
      "execution_count": null,
      "metadata": {
        "colab": {
          "base_uri": "https://localhost:8080/",
          "height": 301
        },
        "id": "9cqRNz1n66pP",
        "outputId": "dd6f8b3a-9256-4117-c79c-ef692137b4d8"
      },
      "outputs": [
        {
          "output_type": "stream",
          "name": "stdout",
          "text": [
            "6/6 - 0s - loss: 0.9460 - accuracy: 0.9278 - 229ms/epoch - 38ms/step\n"
          ]
        },
        {
          "output_type": "display_data",
          "data": {
            "text/plain": [
              "<Figure size 432x288 with 1 Axes>"
            ],
            "image/png": "[encoded data removed]"
          },
          "metadata": {
            "needs_background": "light"
          }
        }
      ],
      "source": [
        "import matplotlib.pyplot as plt\n",
        "\n",
        "plt.plot(history.history['accuracy'], label='accuracy')\n",
        "plt.plot(history.history['val_accuracy'], label = 'val_accuracy')\n",
        "plt.xlabel('Epoch')\n",
        "plt.ylabel('Accuracy')\n",
        "plt.ylim([0, 1])\n",
        "plt.legend(loc='lower right')\n",
        "\n",
        "test_loss, test_acc = model.evaluate(test_ds, verbose=2)"
      ]
    },
    {
      "cell_type": "markdown",
      "source": [
        "#CUARTO MODELO"
      ],
      "metadata": {
        "id": "vg9gwElZPtyp"
      }
    },
    {
      "cell_type": "code",
      "execution_count": null,
      "metadata": {
        "colab": {
          "base_uri": "https://localhost:8080/"
        },
        "outputId": "7ae5fae3-f416-4bb0-8303-5cb3dd19216a",
        "id": "zmqa1hHXP2B7"
      },
      "outputs": [
        {
          "output_type": "stream",
          "name": "stdout",
          "text": [
            "Model: \"sequential\"\n",
            "_________________________________________________________________\n",
            " Layer (type)                Output Shape              Param #   \n",
            "=================================================================\n",
            " conv2d (Conv2D)             (None, 238, 238, 64)      1792      \n",
            "                                                                 \n",
            " max_pooling2d (MaxPooling2D  (None, 119, 119, 64)     0         \n",
            " )                                                               \n",
            "                                                                 \n",
            " flatten (Flatten)           (None, 906304)            0         \n",
            "                                                                 \n",
            " dropout (Dropout)           (None, 906304)            0         \n",
            "                                                                 \n",
            " dense (Dense)               (None, 128)               116007040 \n",
            "                                                                 \n",
            " dropout_1 (Dropout)         (None, 128)               0         \n",
            "                                                                 \n",
            " dense_1 (Dense)             (None, 64)                8256      \n",
            "                                                                 \n",
            " dropout_2 (Dropout)         (None, 64)                0         \n",
            "                                                                 \n",
            " dense_2 (Dense)             (None, 3)                 195       \n",
            "                                                                 \n",
            "=================================================================\n",
            "Total params: 116,017,283\n",
            "Trainable params: 116,017,283\n",
            "Non-trainable params: 0\n",
            "_________________________________________________________________\n"
          ]
        }
      ],
      "source": [
        "model = tf.keras.Sequential([\n",
        "    tf.keras.layers.Conv2D(64, (3, 3),\n",
        "                           activation='relu',\n",
        "                           input_shape=(240, 240, 3)),\n",
        "    tf.keras.layers.MaxPool2D((2, 2)),\n",
        "    tf.keras.layers.Flatten(),\n",
        "    tf.keras.layers.Dropout(0.33),\n",
        "    tf.keras.layers.Dense(128, activation = 'relu'),\n",
        "    tf.keras.layers.Dropout(0.33),\n",
        "    tf.keras.layers.Dense(64, activation = 'relu'),\n",
        "    tf.keras.layers.Dropout(0.33),\n",
        "    tf.keras.layers.Dense(3), \n",
        "]) \n",
        "model.summary()"
      ]
    },
    {
      "cell_type": "code",
      "execution_count": null,
      "metadata": {
        "id": "RSKQZuz_P2B7"
      },
      "outputs": [],
      "source": [
        "model.compile(\n",
        "    optimizer = 'adam',\n",
        "    loss = tf.keras.losses.SparseCategoricalCrossentropy(from_logits = True), \n",
        "    metrics = ['accuracy']\n",
        ")"
      ]
    },
    {
      "cell_type": "code",
      "execution_count": null,
      "metadata": {
        "colab": {
          "base_uri": "https://localhost:8080/"
        },
        "outputId": "8e8f3139-ee15-41d9-c93d-fe04f18a4957",
        "id": "q8KvJFCxP2B8"
      },
      "outputs": [
        {
          "output_type": "stream",
          "name": "stdout",
          "text": [
            "Epoch 1/10\n",
            "23/23 [==============================] - 9s 154ms/step - loss: 949.5362 - accuracy: 0.5306 - val_loss: 12.0725 - val_accuracy: 0.6389\n",
            "Epoch 2/10\n",
            "23/23 [==============================] - 2s 102ms/step - loss: 7.7185 - accuracy: 0.6778 - val_loss: 0.8619 - val_accuracy: 0.8056\n",
            "Epoch 3/10\n",
            "23/23 [==============================] - 2s 101ms/step - loss: 1.8127 - accuracy: 0.7653 - val_loss: 0.6568 - val_accuracy: 0.8333\n",
            "Epoch 4/10\n",
            "23/23 [==============================] - 2s 101ms/step - loss: 0.9659 - accuracy: 0.8069 - val_loss: 0.5767 - val_accuracy: 0.8556\n",
            "Epoch 5/10\n",
            "23/23 [==============================] - 2s 101ms/step - loss: 0.5200 - accuracy: 0.8736 - val_loss: 0.4808 - val_accuracy: 0.8500\n",
            "Epoch 6/10\n",
            "23/23 [==============================] - 2s 101ms/step - loss: 0.4782 - accuracy: 0.8875 - val_loss: 0.4749 - val_accuracy: 0.8667\n",
            "Epoch 7/10\n",
            "23/23 [==============================] - 2s 101ms/step - loss: 0.3175 - accuracy: 0.9083 - val_loss: 0.4146 - val_accuracy: 0.8722\n",
            "Epoch 8/10\n",
            "23/23 [==============================] - 2s 102ms/step - loss: 0.2573 - accuracy: 0.9042 - val_loss: 0.4549 - val_accuracy: 0.8778\n",
            "Epoch 9/10\n",
            "23/23 [==============================] - 2s 102ms/step - loss: 0.2103 - accuracy: 0.9333 - val_loss: 0.4333 - val_accuracy: 0.8889\n",
            "Epoch 10/10\n",
            "23/23 [==============================] - 2s 101ms/step - loss: 0.2242 - accuracy: 0.9292 - val_loss: 0.4818 - val_accuracy: 0.8944\n"
          ]
        }
      ],
      "source": [
        "history = model.fit(\n",
        "    train_ds,\n",
        "    epochs=10,\n",
        "    validation_data=test_ds\n",
        ")"
      ]
    },
    {
      "cell_type": "code",
      "execution_count": null,
      "metadata": {
        "colab": {
          "base_uri": "https://localhost:8080/",
          "height": 301
        },
        "outputId": "ad13c2b3-5217-496e-c683-1d8e80d91ea0",
        "id": "mCrfRPvDP2B8"
      },
      "outputs": [
        {
          "output_type": "stream",
          "name": "stdout",
          "text": [
            "6/6 - 0s - loss: 0.4818 - accuracy: 0.8944 - 292ms/epoch - 49ms/step\n"
          ]
        },
        {
          "output_type": "display_data",
          "data": {
            "text/plain": [
              "<Figure size 432x288 with 1 Axes>"
            ],
            "image/png": "[encoded data removed]"
          },
          "metadata": {
            "needs_background": "light"
          }
        }
      ],
      "source": [
        "import matplotlib.pyplot as plt\n",
        "\n",
        "plt.plot(history.history['accuracy'], label='accuracy')\n",
        "plt.plot(history.history['val_accuracy'], label = 'val_accuracy')\n",
        "plt.xlabel('Epoch')\n",
        "plt.ylabel('Accuracy')\n",
        "plt.ylim([0, 1])\n",
        "plt.legend(loc='lower right')\n",
        "\n",
        "test_loss, test_acc = model.evaluate(test_ds, verbose=2)"
      ]
    },
    {
      "cell_type": "markdown",
      "source": [
        "#MODELO EN USO"
      ],
      "metadata": {
        "id": "30wSDnU3Pari"
      }
    },
    {
      "cell_type": "code",
      "source": [
        "model.save('/content/model')"
      ],
      "metadata": {
        "id": "ZhyAvPThz6a6"
      },
      "execution_count": null,
      "outputs": []
    },
    {
      "cell_type": "code",
      "source": [
        "model_fetched = tf.keras.models.load_model('/content/model')"
      ],
      "metadata": {
        "id": "TvJeoAVG0Cx-"
      },
      "execution_count": null,
      "outputs": []
    },
    {
      "cell_type": "code",
      "source": [
        "import numpy as np\n",
        "from google.colab import files\n",
        "from keras.preprocessing import image\n",
        "\n",
        "CLASSES = ['FLAT-TIRE', 'FULL-TIRE', 'NO-TIRE']\n",
        "imgs = files.upload()\n",
        "\n",
        "for fn in imgs.keys():\n",
        "    path = '/content/' + fn\n",
        "    img = image.load_img(path, target_size=(240, 240))\n",
        "    x = image.img_to_array(img)\n",
        "    x = np.expand_dims(x, axis=0)\n",
        "\n",
        "    images = np.vstack([x])\n",
        "    classes = model.predict(images, batch_size=10)\n",
        "    print(classes[0])\n",
        "    max_idx = classes.argmax()\n",
        "    print('CLASS:', CLASSES[max_idx])"
      ],
      "metadata": {
        "colab": {
          "resources": {
            "http://localhost:8080/nbextensions/google.colab/files.js": {
              "data": "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",
              "ok": true,
              "headers": [
                [
                  "content-type",
                  "application/javascript"
                ]
              ],
              "status": 200,
              "status_text": ""
            }
          },
          "base_uri": "https://localhost:8080/",
          "height": 109
        },
        "id": "eIUgjoEyNdkC",
        "outputId": "b0412588-2396-494d-de1b-003bbc7b1c29"
      },
      "execution_count": null,
      "outputs": [
        {
          "output_type": "display_data",
          "data": {
            "text/plain": [
              "<IPython.core.display.HTML object>"
            ],
            "text/html": [
              "\n",
              "     <input type=\"file\" id=\"files-e15e0423-7a93-41fc-a1c6-d9d881c30452\" name=\"files[]\" multiple disabled\n",
              "        style=\"border:none\" />\n",
              "     <output id=\"result-e15e0423-7a93-41fc-a1c6-d9d881c30452\">\n",
              "      Upload widget is only available when the cell has been executed in the\n",
              "      current browser session. Please rerun this cell to enable.\n",
              "      </output>\n",
              "      <script src=\"/nbextensions/google.colab/files.js\"></script> "
            ]
          },
          "metadata": {}
        },
        {
          "output_type": "stream",
          "name": "stdout",
          "text": [
            "Saving 014-red-s10-drag-truck.jpg to 014-red-s10-drag-truck.jpg\n",
            "[304.4382  258.26517 669.9421 ]\n",
            "CLASS: NO-TIRE\n"
          ]
        }
      ]
    },
    {
      "cell_type": "code",
      "source": [
        "#Remove folder\n",
        "import shutil\n",
        "shutil.rmtree('/content/Images')"
      ],
      "metadata": {
        "id": "oHXb2rfqQifX"
      },
      "execution_count": null,
      "outputs": []
    }
  ],
  "metadata": {
    "accelerator": "GPU",
    "colab": {
      "collapsed_sections": [
        "RiwQc486e8qV",
        "4IQXVqAU3hLH",
        "jaOEXbOz66pO",
        "vg9gwElZPtyp"
      ],
      "name": "Flat-Full-NotTire_CNN.ipynb",
      "provenance": []
    },
    "gpuClass": "standard",
    "kernelspec": {
      "display_name": "Python 3",
      "name": "python3"
    },
    "language_info": {
      "name": "python"
    }
  },
  "nbformat": 4,
  "nbformat_minor": 0
}